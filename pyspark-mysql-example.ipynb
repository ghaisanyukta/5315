{
 "cells": [
  {
   "cell_type": "markdown",
   "metadata": {},
   "source": [
    "### spark dataframe exercise"
   ]
  },
  {
   "cell_type": "code",
   "execution_count": 1,
   "metadata": {},
   "outputs": [],
   "source": [
    "import os\n",
    "import pyspark\n",
    "\n",
    "# download a mysql connector file\n",
    "mysqlurl = 'http://www.java2s.com/Code/JarDownload/mysql/mysql.jar.zip'\n",
    "connector_path = os.path.join('/home/jovyan', 'work')\n",
    "file_path = os.path.join(connector_path, 'mysql.jar.zip')\n",
    "\n",
    "import urllib.request\n",
    "\n",
    "conn_f = urllib.request.urlretrieve (mysqlurl, file_path)\n",
    "\n",
    "import zipfile\n",
    "with zipfile.ZipFile(file_path, \"r\") as z:\n",
    "    z.extractall(connector_path)\n",
    "\n",
    "# connector_file = os.path.join(connector_path, 'mysql.jar', 'mysql.jar')\n"
   ]
  },
  {
   "cell_type": "code",
   "execution_count": 2,
   "metadata": {},
   "outputs": [],
   "source": [
    "# https://medium.com/@thucnc/pyspark-in-jupyter-notebook-working-with-dataframe-jdbc-data-sources-6f3d39300bf6\n",
    "# os.environ['PYSPARK_SUBMIT_ARGS'] = '--packages org.postgresql:postgresql:42.1.1 pyspark-shell'\n",
    "# os.environ['PYSPARK_SUBMIT_ARGS'] = '--jars file:///D:/sqlite-jdbc-3.23.1.jar pyspark-shell'\n",
    "\n",
    "os.environ['PYSPARK_SUBMIT_ARGS'] = '--jars /home/jovyan/work/mysql.jar pyspark-shell'"
   ]
  },
  {
   "cell_type": "code",
   "execution_count": 3,
   "metadata": {},
   "outputs": [],
   "source": [
    "from pyspark.sql import SQLContext\n",
    "\n",
    "sc = pyspark.SparkContext('local[*]')\n",
    "sqlContext = SQLContext(sc)"
   ]
  },
  {
   "cell_type": "code",
   "execution_count": 4,
   "metadata": {},
   "outputs": [],
   "source": [
    "df_country = sqlContext.read.format(\"jdbc\").options( url=\"jdbc:mysql://yourIPaddress:3306/world\", \\\n",
    "    driver = \"com.mysql.jdbc.Driver\",dbtable = \"country\",user=\"root\", \\\n",
    "    password=\"bigdataftw\").load().persist()"
   ]
  },
  {
   "cell_type": "markdown",
   "metadata": {},
   "source": [
    "#### dataframe tutorial\n",
    "source: https://www.edureka.co/blog/pyspark-dataframe-tutorial/"
   ]
  },
  {
   "cell_type": "code",
   "execution_count": 5,
   "metadata": {},
   "outputs": [
    {
     "name": "stdout",
     "output_type": "stream",
     "text": [
      "+----+--------------------+-------------+--------------------+-----------+---------+----------+--------------+--------+--------+--------------------+--------------------+--------------------+-------+-----+\n",
      "|Code|                Name|    Continent|              Region|SurfaceArea|IndepYear|Population|LifeExpectancy|     GNP|  GNPOld|           LocalName|      GovernmentForm|         HeadOfState|Capital|Code2|\n",
      "+----+--------------------+-------------+--------------------+-----------+---------+----------+--------------+--------+--------+--------------------+--------------------+--------------------+-------+-----+\n",
      "| ABW|               Aruba|North America|           Caribbean|      193.0|     null|    103000|          78.4|   828.0|   793.0|               Aruba|Nonmetropolitan T...|             Beatrix|    129|   AW|\n",
      "| AFG|         Afghanistan|         Asia|Southern and Cent...|   652090.0|     1919|  22720000|          45.9|  5976.0|    null|Afganistan/Afqane...|     Islamic Emirate|       Mohammad Omar|      1|   AF|\n",
      "| AGO|              Angola|       Africa|      Central Africa|  1246700.0|     1975|  12878000|          38.3|  6648.0|  7984.0|              Angola|            Republic|José Eduardo dos ...|     56|   AO|\n",
      "| AIA|            Anguilla|North America|           Caribbean|       96.0|     null|      8000|          76.1|    63.2|    null|            Anguilla|Dependent Territo...|        Elisabeth II|     62|   AI|\n",
      "| ALB|             Albania|       Europe|     Southern Europe|    28748.0|     1912|   3401200|          71.6|  3205.0|  2500.0|           Shqipëria|            Republic|      Rexhep Mejdani|     34|   AL|\n",
      "| AND|             Andorra|       Europe|     Southern Europe|      468.0|     1278|     78000|          83.5|  1630.0|    null|             Andorra|Parliamentary Cop...|                    |     55|   AD|\n",
      "| ANT|Netherlands Antilles|North America|           Caribbean|      800.0|     null|    217000|          74.7|  1941.0|    null|Nederlandse Antillen|Nonmetropolitan T...|             Beatrix|     33|   AN|\n",
      "| ARE|United Arab Emirates|         Asia|         Middle East|    83600.0|     1971|   2441000|          74.1| 37966.0| 36846.0|Al-Imarat al-´Ara...|  Emirate Federation|Zayid bin Sultan ...|     65|   AE|\n",
      "| ARG|           Argentina|South America|       South America|  2780400.0|     1816|  37032000|          75.1|340238.0|323310.0|           Argentina|    Federal Republic|  Fernando de la Rúa|     69|   AR|\n",
      "| ARM|             Armenia|         Asia|         Middle East|    29800.0|     1991|   3520000|          66.4|  1813.0|  1627.0|            Hajastan|            Republic|    Robert Kotarjan|    126|   AM|\n",
      "| ASM|      American Samoa|      Oceania|           Polynesia|      199.0|     null|     68000|          75.1|   334.0|    null|       Amerika Samoa|        US Territory|      George W. Bush|     54|   AS|\n",
      "| ATA|          Antarctica|   Antarctica|          Antarctica|    1.312E7|     null|         0|          null|     0.0|    null|                   |    Co-administrated|                    |   null|   AQ|\n",
      "| ATF|French Southern t...|   Antarctica|          Antarctica|     7780.0|     null|         0|          null|     0.0|    null|Terres australes ...|Nonmetropolitan T...|      Jacques Chirac|   null|   TF|\n",
      "| ATG| Antigua and Barbuda|North America|           Caribbean|      442.0|     1981|     68000|          70.5|   612.0|   584.0| Antigua and Barbuda|Constitutional Mo...|        Elisabeth II|     63|   AG|\n",
      "| AUS|           Australia|      Oceania|Australia and New...|  7741220.0|     1901|  18886000|          79.8|351182.0|392911.0|           Australia|Constitutional Mo...|        Elisabeth II|    135|   AU|\n",
      "| AUT|             Austria|       Europe|      Western Europe|    83859.0|     1918|   8091800|          77.7|211860.0|206025.0|          Österreich|    Federal Republic|      Thomas Klestil|   1523|   AT|\n",
      "| AZE|          Azerbaijan|         Asia|         Middle East|    86600.0|     1991|   7734000|          62.9|  4127.0|  4100.0|          Azärbaycan|    Federal Republic|       Heydär Äliyev|    144|   AZ|\n",
      "| BDI|             Burundi|       Africa|      Eastern Africa|    27834.0|     1962|   6695000|          46.2|   903.0|   982.0|    Burundi/Uburundi|            Republic|       Pierre Buyoya|    552|   BI|\n",
      "| BEL|             Belgium|       Europe|      Western Europe|    30518.0|     1830|  10239000|          77.8|249704.0|243948.0|     België/Belgique|Constitutional Mo...|           Albert II|    179|   BE|\n",
      "| BEN|               Benin|       Africa|      Western Africa|   112622.0|     1960|   6097000|          50.2|  2357.0|  2141.0|               Bénin|            Republic|     Mathieu Kérékou|    187|   BJ|\n",
      "+----+--------------------+-------------+--------------------+-----------+---------+----------+--------------+--------+--------+--------------------+--------------------+--------------------+-------+-----+\n",
      "only showing top 20 rows\n",
      "\n"
     ]
    }
   ],
   "source": [
    "df_country.show()"
   ]
  },
  {
   "cell_type": "code",
   "execution_count": 6,
   "metadata": {},
   "outputs": [
    {
     "name": "stdout",
     "output_type": "stream",
     "text": [
      "root\n",
      " |-- Code: string (nullable = true)\n",
      " |-- Name: string (nullable = true)\n",
      " |-- Continent: string (nullable = true)\n",
      " |-- Region: string (nullable = true)\n",
      " |-- SurfaceArea: double (nullable = true)\n",
      " |-- IndepYear: integer (nullable = true)\n",
      " |-- Population: integer (nullable = true)\n",
      " |-- LifeExpectancy: double (nullable = true)\n",
      " |-- GNP: double (nullable = true)\n",
      " |-- GNPOld: double (nullable = true)\n",
      " |-- LocalName: string (nullable = true)\n",
      " |-- GovernmentForm: string (nullable = true)\n",
      " |-- HeadOfState: string (nullable = true)\n",
      " |-- Capital: integer (nullable = true)\n",
      " |-- Code2: string (nullable = true)\n",
      "\n"
     ]
    }
   ],
   "source": [
    "df_country.printSchema()"
   ]
  },
  {
   "cell_type": "code",
   "execution_count": 7,
   "metadata": {},
   "outputs": [
    {
     "data": {
      "text/plain": [
       "['Code',\n",
       " 'Name',\n",
       " 'Continent',\n",
       " 'Region',\n",
       " 'SurfaceArea',\n",
       " 'IndepYear',\n",
       " 'Population',\n",
       " 'LifeExpectancy',\n",
       " 'GNP',\n",
       " 'GNPOld',\n",
       " 'LocalName',\n",
       " 'GovernmentForm',\n",
       " 'HeadOfState',\n",
       " 'Capital',\n",
       " 'Code2']"
      ]
     },
     "execution_count": 7,
     "metadata": {},
     "output_type": "execute_result"
    }
   ],
   "source": [
    "df_country.columns"
   ]
  },
  {
   "cell_type": "code",
   "execution_count": 8,
   "metadata": {},
   "outputs": [
    {
     "data": {
      "text/plain": [
       "239"
      ]
     },
     "execution_count": 8,
     "metadata": {},
     "output_type": "execute_result"
    }
   ],
   "source": [
    "df_country.count()"
   ]
  },
  {
   "cell_type": "code",
   "execution_count": 9,
   "metadata": {},
   "outputs": [
    {
     "data": {
      "text/plain": [
       "15"
      ]
     },
     "execution_count": 9,
     "metadata": {},
     "output_type": "execute_result"
    }
   ],
   "source": [
    "len(df_country.columns)"
   ]
  },
  {
   "cell_type": "code",
   "execution_count": 10,
   "metadata": {},
   "outputs": [
    {
     "name": "stdout",
     "output_type": "stream",
     "text": [
      "+-------+--------------------+\n",
      "|summary|          Population|\n",
      "+-------+--------------------+\n",
      "|  count|                 239|\n",
      "|   mean| 2.543409811715481E7|\n",
      "| stddev|1.0933981722387172E8|\n",
      "|    min|                   0|\n",
      "|    max|          1277558000|\n",
      "+-------+--------------------+\n",
      "\n"
     ]
    }
   ],
   "source": [
    "df_country.describe('Population').show()"
   ]
  },
  {
   "cell_type": "code",
   "execution_count": 11,
   "metadata": {},
   "outputs": [
    {
     "name": "stdout",
     "output_type": "stream",
     "text": [
      "+--------------------+----------+\n",
      "|                Name|Population|\n",
      "+--------------------+----------+\n",
      "|               Aruba|    103000|\n",
      "|         Afghanistan|  22720000|\n",
      "|              Angola|  12878000|\n",
      "|            Anguilla|      8000|\n",
      "|             Albania|   3401200|\n",
      "|             Andorra|     78000|\n",
      "|Netherlands Antilles|    217000|\n",
      "|United Arab Emirates|   2441000|\n",
      "|           Argentina|  37032000|\n",
      "|             Armenia|   3520000|\n",
      "|      American Samoa|     68000|\n",
      "|          Antarctica|         0|\n",
      "|French Southern t...|         0|\n",
      "| Antigua and Barbuda|     68000|\n",
      "|           Australia|  18886000|\n",
      "|             Austria|   8091800|\n",
      "|          Azerbaijan|   7734000|\n",
      "|             Burundi|   6695000|\n",
      "|             Belgium|  10239000|\n",
      "|               Benin|   6097000|\n",
      "+--------------------+----------+\n",
      "only showing top 20 rows\n",
      "\n"
     ]
    }
   ],
   "source": [
    "df_country.select('Name','Population').show()\n",
    "\n",
    "# not truncate\n",
    "# df_country.select('Name','Population').show(False)"
   ]
  },
  {
   "cell_type": "code",
   "execution_count": 12,
   "metadata": {},
   "outputs": [],
   "source": [
    "df_countrylang = sqlContext.read.format(\"jdbc\").options( url=\"jdbc:mysql://yourIPaddress:3306/world\", \\\n",
    "    driver = \"com.mysql.jdbc.Driver\",dbtable = \"countrylanguage\",user=\"root\", \\\n",
    "    password=\"bigdataftw\").load().persist()"
   ]
  },
  {
   "cell_type": "code",
   "execution_count": 13,
   "metadata": {},
   "outputs": [
    {
     "name": "stdout",
     "output_type": "stream",
     "text": [
      "root\n",
      " |-- CountryCode: string (nullable = true)\n",
      " |-- Language: string (nullable = true)\n",
      " |-- IsOfficial: string (nullable = true)\n",
      " |-- Percentage: double (nullable = true)\n",
      "\n"
     ]
    }
   ],
   "source": [
    "df_countrylang.printSchema()"
   ]
  },
  {
   "cell_type": "code",
   "execution_count": 14,
   "metadata": {},
   "outputs": [
    {
     "name": "stdout",
     "output_type": "stream",
     "text": [
      "+-----------+--------+----------+----------+\n",
      "|CountryCode|Language|IsOfficial|Percentage|\n",
      "+-----------+--------+----------+----------+\n",
      "|        ABW| English|         F|       9.5|\n",
      "|        AIA| English|         T|       0.0|\n",
      "|        ANT| English|         F|       7.8|\n",
      "|        ASM| English|         T|       3.1|\n",
      "|        ATG| English|         T|       0.0|\n",
      "|        AUS| English|         T|      81.2|\n",
      "|        BHR| English|         F|       0.0|\n",
      "|        BLZ| English|         T|      50.8|\n",
      "|        BMU| English|         T|     100.0|\n",
      "|        BRB| English|         T|       0.0|\n",
      "|        BRN| English|         F|       3.1|\n",
      "|        CAN| English|         T|      60.4|\n",
      "|        CCK| English|         T|       0.0|\n",
      "|        COK| English|         F|       0.0|\n",
      "|        CXR| English|         T|       0.0|\n",
      "|        CYM| English|         T|       0.0|\n",
      "|        DNK| English|         F|       0.3|\n",
      "|        FLK| English|         T|       0.0|\n",
      "|        GBR| English|         T|      97.3|\n",
      "|        GIB| English|         T|      88.9|\n",
      "+-----------+--------+----------+----------+\n",
      "only showing top 20 rows\n",
      "\n"
     ]
    }
   ],
   "source": [
    "df_countrylang.filter(df_countrylang.Language=='English').show()"
   ]
  },
  {
   "cell_type": "code",
   "execution_count": 15,
   "metadata": {},
   "outputs": [
    {
     "data": {
      "text/plain": [
       "60"
      ]
     },
     "execution_count": 15,
     "metadata": {},
     "output_type": "execute_result"
    }
   ],
   "source": [
    "df_countrylang.filter(df_countrylang.Language=='English').count()"
   ]
  },
  {
   "cell_type": "code",
   "execution_count": 19,
   "metadata": {},
   "outputs": [
    {
     "name": "stdout",
     "output_type": "stream",
     "text": [
      "+-----------+--------+----------+----------+\n",
      "|CountryCode|Language|IsOfficial|Percentage|\n",
      "+-----------+--------+----------+----------+\n",
      "|        AIA| English|         T|       0.0|\n",
      "|        ASM| English|         T|       3.1|\n",
      "|        ATG| English|         T|       0.0|\n",
      "|        AUS| English|         T|      81.2|\n",
      "|        BLZ| English|         T|      50.8|\n",
      "|        BMU| English|         T|     100.0|\n",
      "|        BRB| English|         T|       0.0|\n",
      "|        CAN| English|         T|      60.4|\n",
      "|        CCK| English|         T|       0.0|\n",
      "|        CXR| English|         T|       0.0|\n",
      "|        CYM| English|         T|       0.0|\n",
      "|        FLK| English|         T|       0.0|\n",
      "|        GBR| English|         T|      97.3|\n",
      "|        GIB| English|         T|      88.9|\n",
      "|        GUM| English|         T|      37.5|\n",
      "|        HKG| English|         T|       2.2|\n",
      "|        IRL| English|         T|      98.4|\n",
      "|        KNA| English|         T|       0.0|\n",
      "|        LCA| English|         T|      20.0|\n",
      "|        LSO| English|         T|       0.0|\n",
      "+-----------+--------+----------+----------+\n",
      "only showing top 20 rows\n",
      "\n"
     ]
    }
   ],
   "source": [
    "df_countrylang.filter((df_countrylang.Language=='English') & (df_countrylang.IsOfficial=='T')).show()"
   ]
  },
  {
   "cell_type": "code",
   "execution_count": 20,
   "metadata": {},
   "outputs": [
    {
     "data": {
      "text/plain": [
       "44"
      ]
     },
     "execution_count": 20,
     "metadata": {},
     "output_type": "execute_result"
    }
   ],
   "source": [
    "df_countrylang.filter((df_countrylang.Language=='English') & (df_countrylang.IsOfficial=='T')).count()"
   ]
  },
  {
   "cell_type": "code",
   "execution_count": 21,
   "metadata": {},
   "outputs": [
    {
     "name": "stdout",
     "output_type": "stream",
     "text": [
      "+----+--------------------+-------------+--------------------+-----------+---------+----------+--------------+-----+------+--------------------+--------------------+-------------------+-------+-----+\n",
      "|Code|                Name|    Continent|              Region|SurfaceArea|IndepYear|Population|LifeExpectancy|  GNP|GNPOld|           LocalName|      GovernmentForm|        HeadOfState|Capital|Code2|\n",
      "+----+--------------------+-------------+--------------------+-----------+---------+----------+--------------+-----+------+--------------------+--------------------+-------------------+-------+-----+\n",
      "| SGS|South Georgia and...|   Antarctica|          Antarctica|     3903.0|     null|         0|          null|  0.0|  null|South Georgia and...|Dependent Territo...|       Elisabeth II|   null|   GS|\n",
      "| ATF|French Southern t...|   Antarctica|          Antarctica|     7780.0|     null|         0|          null|  0.0|  null|Terres australes ...|Nonmetropolitan T...|     Jacques Chirac|   null|   TF|\n",
      "| UMI|United States Min...|      Oceania|Micronesia/Caribbean|       16.0|     null|         0|          null|  0.0|  null|United States Min...|Dependent Territo...|     George W. Bush|   null|   UM|\n",
      "| BVT|       Bouvet Island|   Antarctica|          Antarctica|       59.0|     null|         0|          null|  0.0|  null|           Bouvetøya|Dependent Territo...|           Harald V|   null|   BV|\n",
      "| HMD|Heard Island and ...|   Antarctica|          Antarctica|      359.0|     null|         0|          null|  0.0|  null|Heard and McDonal...|Territory of Aust...|       Elisabeth II|   null|   HM|\n",
      "| ATA|          Antarctica|   Antarctica|          Antarctica|    1.312E7|     null|         0|          null|  0.0|  null|                   |    Co-administrated|                   |   null|   AQ|\n",
      "| IOT|British Indian Oc...|       Africa|      Eastern Africa|       78.0|     null|         0|          null|  0.0|  null|British Indian Oc...|Dependent Territo...|       Elisabeth II|   null|   IO|\n",
      "| PCN|            Pitcairn|      Oceania|           Polynesia|       49.0|     null|        50|          null|  0.0|  null|            Pitcairn|Dependent Territo...|       Elisabeth II|   2912|   PN|\n",
      "| CCK|Cocos (Keeling) I...|      Oceania|Australia and New...|       14.0|     null|       600|          null|  0.0|  null|Cocos (Keeling) I...|Territory of Aust...|       Elisabeth II|   2317|   CC|\n",
      "| VAT|Holy See (Vatican...|       Europe|     Southern Europe|        0.4|     1929|      1000|          null|  9.0|  null|Santa Sede/Città ...|Independent Churc...|Johannes Paavali II|   3538|   VA|\n",
      "| FLK|    Falkland Islands|South America|       South America|    12173.0|     null|      2000|          null|  0.0|  null|    Falkland Islands|Dependent Territo...|       Elisabeth II|    763|   FK|\n",
      "| NIU|                Niue|      Oceania|           Polynesia|      260.0|     null|      2000|          null|  0.0|  null|                Niue|Nonmetropolitan T...|       Elisabeth II|   2805|   NU|\n",
      "| NFK|      Norfolk Island|      Oceania|Australia and New...|       36.0|     null|      2000|          null|  0.0|  null|      Norfolk Island|Territory of Aust...|       Elisabeth II|   2806|   NF|\n",
      "| TKL|             Tokelau|      Oceania|           Polynesia|       12.0|     null|      2000|          null|  0.0|  null|             Tokelau|Nonmetropolitan T...|       Elisabeth II|   3333|   TK|\n",
      "| CXR|    Christmas Island|      Oceania|Australia and New...|      135.0|     null|      2500|          null|  0.0|  null|    Christmas Island|Territory of Aust...|       Elisabeth II|   1791|   CX|\n",
      "| SJM|Svalbard and Jan ...|       Europe|    Nordic Countries|    62422.0|     null|      3200|          null|  0.0|  null|Svalbard og Jan M...|Dependent Territo...|           Harald V|    938|   SJ|\n",
      "| SHN|        Saint Helena|       Africa|      Western Africa|      314.0|     null|      6000|          76.8|  0.0|  null|        Saint Helena|Dependent Territo...|       Elisabeth II|   3063|   SH|\n",
      "| SPM|Saint Pierre and ...|North America|       North America|      242.0|     null|      7000|          77.6|  0.0|  null|Saint-Pierre-et-M...|Territorial Colle...|     Jacques Chirac|   3067|   PM|\n",
      "| AIA|            Anguilla|North America|           Caribbean|       96.0|     null|      8000|          76.1| 63.2|  null|            Anguilla|Dependent Territo...|       Elisabeth II|     62|   AI|\n",
      "| MSR|          Montserrat|North America|           Caribbean|      102.0|     null|     11000|          78.0|109.0|  null|          Montserrat|Dependent Territo...|       Elisabeth II|   2697|   MS|\n",
      "+----+--------------------+-------------+--------------------+-----------+---------+----------+--------------+-----+------+--------------------+--------------------+-------------------+-------+-----+\n",
      "only showing top 20 rows\n",
      "\n"
     ]
    }
   ],
   "source": [
    "df_country.orderBy(df_country.Population).show()"
   ]
  },
  {
   "cell_type": "code",
   "execution_count": 24,
   "metadata": {},
   "outputs": [
    {
     "name": "stdout",
     "output_type": "stream",
     "text": [
      "+----+------------------+-------------+--------------------+-----------+---------+----------+--------------+---------+---------+--------------+--------------------+--------------------+-------+-----+\n",
      "|Code|              Name|    Continent|              Region|SurfaceArea|IndepYear|Population|LifeExpectancy|      GNP|   GNPOld|     LocalName|      GovernmentForm|         HeadOfState|Capital|Code2|\n",
      "+----+------------------+-------------+--------------------+-----------+---------+----------+--------------+---------+---------+--------------+--------------------+--------------------+-------+-----+\n",
      "| CHN|             China|         Asia|        Eastern Asia|  9572900.0|    -1523|1277558000|          71.4| 982268.0| 917719.0|      Zhongquo|    People'sRepublic|         Jiang Zemin|   1891|   CN|\n",
      "| IND|             India|         Asia|Southern and Cent...|  3287263.0|     1947|1013662000|          62.5| 447114.0| 430572.0|  Bharat/India|    Federal Republic|Kocheril Raman Na...|   1109|   IN|\n",
      "| USA|     United States|North America|       North America|  9363520.0|     1776| 278357000|          77.1|8510700.0|8110900.0| United States|    Federal Republic|      George W. Bush|   3813|   US|\n",
      "| IDN|         Indonesia|         Asia|      Southeast Asia|  1904569.0|     1945| 212107000|          68.0|  84982.0| 215002.0|     Indonesia|            Republic|   Abdurrahman Wahid|    939|   ID|\n",
      "| BRA|            Brazil|South America|       South America|  8547403.0|     1822| 170115000|          62.9| 776739.0| 804108.0|        Brasil|    Federal Republic|Fernando Henrique...|    211|   BR|\n",
      "| PAK|          Pakistan|         Asia|Southern and Cent...|   796095.0|     1947| 156483000|          61.1|  61289.0|  58549.0|      Pakistan|            Republic|Mohammad Rafiq Tarar|   2831|   PK|\n",
      "| RUS|Russian Federation|       Europe|      Eastern Europe|  1.70754E7|     1991| 146934000|          67.2| 276608.0| 442989.0|       Rossija|    Federal Republic|      Vladimir Putin|   3580|   RU|\n",
      "| BGD|        Bangladesh|         Asia|Southern and Cent...|   143998.0|     1971| 129155000|          60.2|  32852.0|  31966.0|    Bangladesh|            Republic|   Shahabuddin Ahmad|    150|   BD|\n",
      "| JPN|             Japan|         Asia|        Eastern Asia|   377829.0|     -660| 126714000|          80.7|3787042.0|4192638.0|  Nihon/Nippon|Constitutional Mo...|             Akihito|   1532|   JP|\n",
      "| NGA|           Nigeria|       Africa|      Western Africa|   923768.0|     1960| 111506000|          51.6|  65707.0|  58623.0|       Nigeria|    Federal Republic|   Olusegun Obasanjo|   2754|   NG|\n",
      "| MEX|            Mexico|North America|     Central America|  1958201.0|     1810|  98881000|          71.5| 414972.0| 401461.0|        México|    Federal Republic| Vicente Fox Quesada|   2515|   MX|\n",
      "| DEU|           Germany|       Europe|      Western Europe|   357022.0|     1955|  82164700|          77.4|2133367.0|2102826.0|   Deutschland|    Federal Republic|        Johannes Rau|   3068|   DE|\n",
      "| VNM|           Vietnam|         Asia|      Southeast Asia|   331689.0|     1945|  79832000|          69.3|  21929.0|  22834.0|      Viêt Nam|Socialistic Republic|      Trân Duc Luong|   3770|   VN|\n",
      "| PHL|       Philippines|         Asia|      Southeast Asia|   300000.0|     1946|  75967000|          67.5|  65107.0|  82239.0|     Pilipinas|            Republic|Gloria Macapagal-...|    766|   PH|\n",
      "| EGY|             Egypt|       Africa|     Northern Africa|  1001449.0|     1922|  68470000|          63.3|  82710.0|  75617.0|          Misr|            Republic|       Hosni Mubarak|    608|   EG|\n",
      "| IRN|              Iran|         Asia|Southern and Cent...|  1648195.0|     1906|  67702000|          69.7| 195746.0| 160151.0|          Iran|    Islamic Republic|Ali Mohammad Khat...|   1380|   IR|\n",
      "| TUR|            Turkey|         Asia|         Middle East|   774815.0|     1923|  66591000|          71.0| 210721.0| 189122.0|       Türkiye|            Republic|  Ahmet Necdet Sezer|   3358|   TR|\n",
      "| ETH|          Ethiopia|       Africa|      Eastern Africa|  1104300.0|    -1000|  62565000|          45.2|   6353.0|   6180.0|   YeItyop´iya|            Republic|      Negasso Gidada|    756|   ET|\n",
      "| THA|          Thailand|         Asia|      Southeast Asia|   513115.0|     1350|  61399000|          68.6| 116416.0| 153907.0|  Prathet Thai|Constitutional Mo...|  Bhumibol Adulyadej|   3320|   TH|\n",
      "| GBR|    United Kingdom|       Europe|     British Islands|   242900.0|     1066|  59623400|          77.7|1378330.0|1296830.0|United Kingdom|Constitutional Mo...|        Elisabeth II|    456|   GB|\n",
      "+----+------------------+-------------+--------------------+-----------+---------+----------+--------------+---------+---------+--------------+--------------------+--------------------+-------+-----+\n",
      "only showing top 20 rows\n",
      "\n"
     ]
    }
   ],
   "source": [
    "df_country.orderBy(df_country.Population, ascending=False).show()"
   ]
  },
  {
   "cell_type": "code",
   "execution_count": 25,
   "metadata": {},
   "outputs": [
    {
     "name": "stdout",
     "output_type": "stream",
     "text": [
      "+----+--------------------+-------------+--------------------+-----------+---------+----------+--------------+-----+------+--------------------+--------------------+-------------------+-------+-----+\n",
      "|Code|                Name|    Continent|              Region|SurfaceArea|IndepYear|Population|LifeExpectancy|  GNP|GNPOld|           LocalName|      GovernmentForm|        HeadOfState|Capital|Code2|\n",
      "+----+--------------------+-------------+--------------------+-----------+---------+----------+--------------+-----+------+--------------------+--------------------+-------------------+-------+-----+\n",
      "| SGS|South Georgia and...|   Antarctica|          Antarctica|     3903.0|     null|         0|          null|  0.0|  null|South Georgia and...|Dependent Territo...|       Elisabeth II|   null|   GS|\n",
      "| ATF|French Southern t...|   Antarctica|          Antarctica|     7780.0|     null|         0|          null|  0.0|  null|Terres australes ...|Nonmetropolitan T...|     Jacques Chirac|   null|   TF|\n",
      "| UMI|United States Min...|      Oceania|Micronesia/Caribbean|       16.0|     null|         0|          null|  0.0|  null|United States Min...|Dependent Territo...|     George W. Bush|   null|   UM|\n",
      "| BVT|       Bouvet Island|   Antarctica|          Antarctica|       59.0|     null|         0|          null|  0.0|  null|           Bouvetøya|Dependent Territo...|           Harald V|   null|   BV|\n",
      "| HMD|Heard Island and ...|   Antarctica|          Antarctica|      359.0|     null|         0|          null|  0.0|  null|Heard and McDonal...|Territory of Aust...|       Elisabeth II|   null|   HM|\n",
      "| ATA|          Antarctica|   Antarctica|          Antarctica|    1.312E7|     null|         0|          null|  0.0|  null|                   |    Co-administrated|                   |   null|   AQ|\n",
      "| IOT|British Indian Oc...|       Africa|      Eastern Africa|       78.0|     null|         0|          null|  0.0|  null|British Indian Oc...|Dependent Territo...|       Elisabeth II|   null|   IO|\n",
      "| PCN|            Pitcairn|      Oceania|           Polynesia|       49.0|     null|        50|          null|  0.0|  null|            Pitcairn|Dependent Territo...|       Elisabeth II|   2912|   PN|\n",
      "| CCK|Cocos (Keeling) I...|      Oceania|Australia and New...|       14.0|     null|       600|          null|  0.0|  null|Cocos (Keeling) I...|Territory of Aust...|       Elisabeth II|   2317|   CC|\n",
      "| VAT|Holy See (Vatican...|       Europe|     Southern Europe|        0.4|     1929|      1000|          null|  9.0|  null|Santa Sede/Città ...|Independent Churc...|Johannes Paavali II|   3538|   VA|\n",
      "| FLK|    Falkland Islands|South America|       South America|    12173.0|     null|      2000|          null|  0.0|  null|    Falkland Islands|Dependent Territo...|       Elisabeth II|    763|   FK|\n",
      "| NIU|                Niue|      Oceania|           Polynesia|      260.0|     null|      2000|          null|  0.0|  null|                Niue|Nonmetropolitan T...|       Elisabeth II|   2805|   NU|\n",
      "| NFK|      Norfolk Island|      Oceania|Australia and New...|       36.0|     null|      2000|          null|  0.0|  null|      Norfolk Island|Territory of Aust...|       Elisabeth II|   2806|   NF|\n",
      "| TKL|             Tokelau|      Oceania|           Polynesia|       12.0|     null|      2000|          null|  0.0|  null|             Tokelau|Nonmetropolitan T...|       Elisabeth II|   3333|   TK|\n",
      "| CXR|    Christmas Island|      Oceania|Australia and New...|      135.0|     null|      2500|          null|  0.0|  null|    Christmas Island|Territory of Aust...|       Elisabeth II|   1791|   CX|\n",
      "| SJM|Svalbard and Jan ...|       Europe|    Nordic Countries|    62422.0|     null|      3200|          null|  0.0|  null|Svalbard og Jan M...|Dependent Territo...|           Harald V|    938|   SJ|\n",
      "| SHN|        Saint Helena|       Africa|      Western Africa|      314.0|     null|      6000|          76.8|  0.0|  null|        Saint Helena|Dependent Territo...|       Elisabeth II|   3063|   SH|\n",
      "| SPM|Saint Pierre and ...|North America|       North America|      242.0|     null|      7000|          77.6|  0.0|  null|Saint-Pierre-et-M...|Territorial Colle...|     Jacques Chirac|   3067|   PM|\n",
      "| AIA|            Anguilla|North America|           Caribbean|       96.0|     null|      8000|          76.1| 63.2|  null|            Anguilla|Dependent Territo...|       Elisabeth II|     62|   AI|\n",
      "| MSR|          Montserrat|North America|           Caribbean|      102.0|     null|     11000|          78.0|109.0|  null|          Montserrat|Dependent Territo...|       Elisabeth II|   2697|   MS|\n",
      "+----+--------------------+-------------+--------------------+-----------+---------+----------+--------------+-----+------+--------------------+--------------------+-------------------+-------+-----+\n",
      "only showing top 20 rows\n",
      "\n"
     ]
    }
   ],
   "source": [
    "df_country.orderBy(df_country.Population, ascending=True).show()"
   ]
  },
  {
   "cell_type": "code",
   "execution_count": 26,
   "metadata": {},
   "outputs": [],
   "source": [
    "df_city = sqlContext.read.format(\"jdbc\").options( url=\"jdbc:mysql://yourIPaddress:3306/world\", \\\n",
    "    driver = \"com.mysql.jdbc.Driver\",dbtable = \"city\",user=\"root\", \\\n",
    "    password=\"bigdataftw\").load().persist()"
   ]
  },
  {
   "cell_type": "code",
   "execution_count": 27,
   "metadata": {},
   "outputs": [
    {
     "name": "stdout",
     "output_type": "stream",
     "text": [
      "root\n",
      " |-- ID: integer (nullable = true)\n",
      " |-- Name: string (nullable = true)\n",
      " |-- CountryCode: string (nullable = true)\n",
      " |-- District: string (nullable = true)\n",
      " |-- Population: integer (nullable = true)\n",
      "\n"
     ]
    }
   ],
   "source": [
    "df_city.printSchema()"
   ]
  },
  {
   "cell_type": "code",
   "execution_count": 28,
   "metadata": {},
   "outputs": [
    {
     "name": "stdout",
     "output_type": "stream",
     "text": [
      "+----------------+----------+\n",
      "|Name            |Population|\n",
      "+----------------+----------+\n",
      "|Mumbai (Bombay) |10500000  |\n",
      "|Seoul           |9981619   |\n",
      "|São Paulo       |9968485   |\n",
      "|Shanghai        |9696300   |\n",
      "|Jakarta         |9604900   |\n",
      "|Karachi         |9269265   |\n",
      "|Istanbul        |8787958   |\n",
      "|Ciudad de México|8591309   |\n",
      "|Moscow          |8389200   |\n",
      "|New York        |8008278   |\n",
      "+----------------+----------+\n",
      "only showing top 10 rows\n",
      "\n"
     ]
    }
   ],
   "source": [
    "df_city.select(df_city.Name,df_city.Population).orderBy(df_city.Population.desc()).show(10,False)"
   ]
  },
  {
   "cell_type": "code",
   "execution_count": 29,
   "metadata": {},
   "outputs": [
    {
     "name": "stdout",
     "output_type": "stream",
     "text": [
      "+-------------+-----+\n",
      "|    Continent|count|\n",
      "+-------------+-----+\n",
      "|       Europe|   46|\n",
      "|       Africa|   58|\n",
      "|North America|   37|\n",
      "|   Antarctica|    5|\n",
      "|South America|   14|\n",
      "|      Oceania|   28|\n",
      "|         Asia|   51|\n",
      "+-------------+-----+\n",
      "\n"
     ]
    }
   ],
   "source": [
    "df_country.groupBy(\"Continent\").count().show(10)"
   ]
  },
  {
   "cell_type": "code",
   "execution_count": 30,
   "metadata": {},
   "outputs": [
    {
     "name": "stdout",
     "output_type": "stream",
     "text": [
      "+-------------+-----+\n",
      "|    Continent|count|\n",
      "+-------------+-----+\n",
      "|       Africa|   58|\n",
      "|         Asia|   51|\n",
      "|       Europe|   46|\n",
      "|North America|   37|\n",
      "|      Oceania|   28|\n",
      "|South America|   14|\n",
      "|   Antarctica|    5|\n",
      "+-------------+-----+\n",
      "\n"
     ]
    }
   ],
   "source": [
    "df_country.groupBy(\"Continent\").count().orderBy('count', ascending=False).show(10)"
   ]
  },
  {
   "cell_type": "code",
   "execution_count": 31,
   "metadata": {},
   "outputs": [
    {
     "name": "stdout",
     "output_type": "stream",
     "text": [
      "+--------------+-------------------------+--------------------------------------------+\n",
      "|LifeExpectancy|Region                   |GovernmentForm                              |\n",
      "+--------------+-------------------------+--------------------------------------------+\n",
      "|83.5          |Southern Europe          |Parliamentary Coprincipality                |\n",
      "|81.6          |Eastern Asia             |Special Administrative Region of China      |\n",
      "|81.1          |Southern Europe          |Republic                                    |\n",
      "|80.7          |Eastern Asia             |Constitutional Monarchy                     |\n",
      "|80.1          |Southeast Asia           |Republic                                    |\n",
      "|79.8          |Australia and New Zealand|Constitutional Monarchy, Federation         |\n",
      "|79.6          |Western Europe           |Federation                                  |\n",
      "|79.6          |Nordic Countries         |Constitutional Monarchy                     |\n",
      "|79.5          |Eastern Asia             |Special Administrative Region of China      |\n",
      "|79.4          |North America            |Constitutional Monarchy, Federation         |\n",
      "|79.4          |Nordic Countries         |Republic                                    |\n",
      "|79.0          |Southern Europe          |Dependent Territory of the UK               |\n",
      "|79.0          |Southern Europe          |Republic                                    |\n",
      "|78.9          |Caribbean                |Dependent Territory of the UK               |\n",
      "|78.8          |Southern Europe          |Constitutional Monarchy                     |\n",
      "|78.8          |Western Europe           |Republic                                    |\n",
      "|78.8          |Western Europe           |Constitutional Monarchy                     |\n",
      "|78.7          |Nordic Countries         |Constitutional Monarchy                     |\n",
      "|78.6          |Middle East              |Republic                                    |\n",
      "|78.4          |Caribbean                |Nonmetropolitan Territory of The Netherlands|\n",
      "|78.4          |Nordic Countries         |Part of Denmark                             |\n",
      "|78.4          |Southern Europe          |Republic                                    |\n",
      "|78.3          |Caribbean                |Overseas Department of France               |\n",
      "|78.3          |Western Europe           |Constitutional Monarchy                     |\n",
      "|78.1          |Caribbean                |US Territory                                |\n",
      "|78.0          |Caribbean                |Dependent Territory of the UK               |\n",
      "|77.9          |Southern Europe          |Republic                                    |\n",
      "|77.8          |Western Europe           |Constitutional Monarchy, Federation         |\n",
      "|77.8          |Micronesia               |US Territory                                |\n",
      "|77.8          |Australia and New Zealand|Constitutional Monarchy                     |\n",
      "|77.7          |Western Europe           |Federal Republic                            |\n",
      "|77.7          |British Islands          |Constitutional Monarchy                     |\n",
      "|77.6          |North America            |Territorial Collectivity of France          |\n",
      "|77.4          |Western Europe           |Federal Republic                            |\n",
      "|77.4          |Nordic Countries         |Republic                                    |\n",
      "|77.4          |Middle East              |Constitutional Monarchy                     |\n",
      "|77.1          |Western Europe           |Constitutional Monarchy                     |\n",
      "|77.1          |North America            |Federal Republic                            |\n",
      "|77.0          |Caribbean                |Overseas Department of France               |\n",
      "|76.9          |North America            |Dependent Territory of the UK               |\n",
      "|76.8          |British Islands          |Republic                                    |\n",
      "|76.8          |Western Africa           |Dependent Territory of the UK               |\n",
      "|76.7          |Middle East              |Republic                                    |\n",
      "|76.5          |Nordic Countries         |Constitutional Monarchy                     |\n",
      "|76.4          |Eastern Asia             |Republic                                    |\n",
      "|76.2          |Caribbean                |Socialistic Republic                        |\n",
      "|76.1          |Caribbean                |Dependent Territory of the UK               |\n",
      "|76.1          |South America            |Overseas Department of France               |\n",
      "|76.1          |Middle East              |Constitutional Monarchy (Emirate)           |\n",
      "|75.8          |Central America          |Republic                                    |\n",
      "+--------------+-------------------------+--------------------------------------------+\n",
      "only showing top 50 rows\n",
      "\n"
     ]
    }
   ],
   "source": [
    "df_country.select(df_country.LifeExpectancy,df_country.Region,df_country.GovernmentForm).\\\n",
    "    orderBy(df_country.LifeExpectancy.desc()).distinct().show(50,False)"
   ]
  },
  {
   "cell_type": "code",
   "execution_count": 32,
   "metadata": {},
   "outputs": [],
   "source": [
    "city_lang = df_city.join(df_country, df_country.Code == df_city.CountryCode, \"left_outer\")"
   ]
  },
  {
   "cell_type": "code",
   "execution_count": 33,
   "metadata": {},
   "outputs": [
    {
     "name": "stdout",
     "output_type": "stream",
     "text": [
      "+----------------+----------+------------------+\n",
      "|Name            |Population|Name              |\n",
      "+----------------+----------+------------------+\n",
      "|Mumbai (Bombay) |10500000  |India             |\n",
      "|Seoul           |9981619   |South Korea       |\n",
      "|São Paulo       |9968485   |Brazil            |\n",
      "|Shanghai        |9696300   |China             |\n",
      "|Jakarta         |9604900   |Indonesia         |\n",
      "|Karachi         |9269265   |Pakistan          |\n",
      "|Istanbul        |8787958   |Turkey            |\n",
      "|Ciudad de México|8591309   |Mexico            |\n",
      "|Moscow          |8389200   |Russian Federation|\n",
      "|New York        |8008278   |United States     |\n",
      "+----------------+----------+------------------+\n",
      "only showing top 10 rows\n",
      "\n"
     ]
    }
   ],
   "source": [
    "city_lang.select(df_city.Name,df_city.Population,df_country.Name).orderBy(df_city.Population.desc()).show(10,False)"
   ]
  },
  {
   "cell_type": "code",
   "execution_count": 34,
   "metadata": {},
   "outputs": [],
   "source": [
    "country_lang = df_country.join(df_countrylang, df_countrylang.CountryCode == df_country.Code, \"left_outer\")"
   ]
  },
  {
   "cell_type": "code",
   "execution_count": 35,
   "metadata": {},
   "outputs": [
    {
     "name": "stdout",
     "output_type": "stream",
     "text": [
      "+----------+----------------------+--------------+\n",
      "|Percentage|Name                  |Language      |\n",
      "+----------+----------------------+--------------+\n",
      "|76.7      |Aruba                 |Papiamento    |\n",
      "|52.4      |Afghanistan           |Pashto        |\n",
      "|97.9      |Albania               |Albaniana     |\n",
      "|86.2      |Netherlands Antilles  |Papiamento    |\n",
      "|96.8      |Argentina             |Spanish       |\n",
      "|93.4      |Armenia               |Armenian      |\n",
      "|90.6      |American Samoa        |Samoan        |\n",
      "|95.7      |Antigua and Barbuda   |Creole English|\n",
      "|81.2      |Australia             |English       |\n",
      "|92.0      |Austria               |German        |\n",
      "|89.0      |Azerbaijan            |Azerbaijani   |\n",
      "|98.1      |Burundi               |Kirundi       |\n",
      "|59.2      |Belgium               |Dutch         |\n",
      "|50.2      |Burkina Faso          |Mossi         |\n",
      "|97.7      |Bangladesh            |Bengali       |\n",
      "|83.2      |Bulgaria              |Bulgariana    |\n",
      "|67.7      |Bahrain               |Arabic        |\n",
      "|89.7      |Bahamas               |Creole English|\n",
      "|99.2      |Bosnia and Herzegovina|Serbo-Croatian|\n",
      "|65.6      |Belarus               |Belorussian   |\n",
      "+----------+----------------------+--------------+\n",
      "only showing top 20 rows\n",
      "\n"
     ]
    }
   ],
   "source": [
    "country_lang.select(df_countrylang.Percentage,df_country.Name,df_countrylang.Language).\\\n",
    "    filter(df_countrylang.Percentage > 50).show(20,False)"
   ]
  },
  {
   "cell_type": "code",
   "execution_count": 36,
   "metadata": {},
   "outputs": [
    {
     "name": "stdout",
     "output_type": "stream",
     "text": [
      "+------------------------------------+----------+--------+\n",
      "|Name                                |IsOfficial|Language|\n",
      "+------------------------------------+----------+--------+\n",
      "|Anguilla                            |T         |English |\n",
      "|American Samoa                      |T         |English |\n",
      "|Antigua and Barbuda                 |T         |English |\n",
      "|Australia                           |T         |English |\n",
      "|Belize                              |T         |English |\n",
      "|Bermuda                             |T         |English |\n",
      "|Barbados                            |T         |English |\n",
      "|Canada                              |T         |English |\n",
      "|Cocos (Keeling) Islands             |T         |English |\n",
      "|Christmas Island                    |T         |English |\n",
      "|Cayman Islands                      |T         |English |\n",
      "|Falkland Islands                    |T         |English |\n",
      "|United Kingdom                      |T         |English |\n",
      "|Gibraltar                           |T         |English |\n",
      "|Guam                                |T         |English |\n",
      "|Hong Kong                           |T         |English |\n",
      "|Ireland                             |T         |English |\n",
      "|Saint Kitts and Nevis               |T         |English |\n",
      "|Saint Lucia                         |T         |English |\n",
      "|Lesotho                             |T         |English |\n",
      "|Marshall Islands                    |T         |English |\n",
      "|Malta                               |T         |English |\n",
      "|Northern Mariana Islands            |T         |English |\n",
      "|Montserrat                          |T         |English |\n",
      "|Norfolk Island                      |T         |English |\n",
      "|Niue                                |T         |English |\n",
      "|Nauru                               |T         |English |\n",
      "|New Zealand                         |T         |English |\n",
      "|Palau                               |T         |English |\n",
      "|Saint Helena                        |T         |English |\n",
      "|Seychelles                          |T         |English |\n",
      "|Turks and Caicos Islands            |T         |English |\n",
      "|Tokelau                             |T         |English |\n",
      "|Tonga                               |T         |English |\n",
      "|Tuvalu                              |T         |English |\n",
      "|United States Minor Outlying Islands|T         |English |\n",
      "|United States                       |T         |English |\n",
      "|Saint Vincent and the Grenadines    |T         |English |\n",
      "|Virgin Islands, British             |T         |English |\n",
      "|Virgin Islands, U.S.                |T         |English |\n",
      "|Vanuatu                             |T         |English |\n",
      "|Samoa                               |T         |English |\n",
      "|South Africa                        |T         |English |\n",
      "|Zimbabwe                            |T         |English |\n",
      "+------------------------------------+----------+--------+\n",
      "\n"
     ]
    }
   ],
   "source": [
    "country_lang.select(df_country.Name,df_countrylang.IsOfficial,df_countrylang.Language).\\\n",
    "where(df_countrylang.IsOfficial == 'T').where(df_countrylang.Language == 'English').show(50,False)"
   ]
  },
  {
   "cell_type": "code",
   "execution_count": null,
   "metadata": {},
   "outputs": [],
   "source": []
  }
 ],
 "metadata": {
  "kernelspec": {
   "display_name": "Python 3",
   "language": "python",
   "name": "python3"
  },
  "language_info": {
   "codemirror_mode": {
    "name": "ipython",
    "version": 3
   },
   "file_extension": ".py",
   "mimetype": "text/x-python",
   "name": "python",
   "nbconvert_exporter": "python",
   "pygments_lexer": "ipython3",
   "version": "3.6.6"
  }
 },
 "nbformat": 4,
 "nbformat_minor": 2
}
